{
  "nbformat": 4,
  "nbformat_minor": 0,
  "metadata": {
    "colab": {
      "provenance": []
    },
    "kernelspec": {
      "name": "python3",
      "display_name": "Python 3"
    },
    "language_info": {
      "name": "python"
    }
  },
  "cells": [
    {
      "cell_type": "markdown",
      "source": [
        "SVM Implementation"
      ],
      "metadata": {
        "id": "yzsY12tpawUV"
      }
    },
    {
      "cell_type": "code",
      "source": [
        "import numpy as np\n",
        "import cvxpy as cp\n",
        "import matplotlib.pyplot as plt\n",
        "\n",
        "Data = np.genfromtxt(\"Data.csv\", delimiter=\",\", dtype=float)\n",
        "Labels1 = np.genfromtxt(\"Labels.csv\", delimiter=\",\", dtype=int)\n",
        "Labels2 = np.genfromtxt(\"Labels.csv\", delimiter=\",\", dtype=int)"
      ],
      "metadata": {
        "id": "ASbpvVbca6_P"
      },
      "execution_count": 82,
      "outputs": []
    },
    {
      "cell_type": "code",
      "source": [
        "H = np.eye(3)\n",
        "H[0][0] = 0\n",
        "c = np.ones(10)\n",
        "label_col = Labels1\n",
        "label_col.resize((10, 1))\n",
        "g = Data * label_col # all elements in col i in D is multipled with l[i]"
      ],
      "metadata": {
        "id": "xFqkIMp6bvu5"
      },
      "execution_count": 83,
      "outputs": []
    },
    {
      "cell_type": "code",
      "source": [
        "g = np.append(label_col, g, axis=1)"
      ],
      "metadata": {
        "id": "MOtUIbR5fBkG"
      },
      "execution_count": 84,
      "outputs": []
    },
    {
      "cell_type": "code",
      "source": [
        "b_w = cp.Variable(3)\n",
        "prob = cp.Problem(cp.Minimize((1 / 2) * cp.quad_form(b_w, H)), [g @ b_w >= c])\n",
        "prob.solve()\n",
        "b = b_w.value[0]\n",
        "print(\"The value of  primal objective function is: \" + str(prob.value))\n",
        "print(\"b* : \" + str(b))\n",
        "print(\"w1* : \" + str(b_w.value[1]))\n",
        "print(\"w2* : \" + str(b_w.value[2]))\n"
      ],
      "metadata": {
        "colab": {
          "base_uri": "https://localhost:8080/"
        },
        "id": "B4jSiHU_jfgv",
        "outputId": "76413d42-edbf-4150-b22c-bd3b11b68e36"
      },
      "execution_count": 85,
      "outputs": [
        {
          "output_type": "stream",
          "name": "stdout",
          "text": [
            "The value of  primal objective function is: 2.666406072048321\n",
            "b* : 0.9999522656147108\n",
            "w1* : 1.1546673440982136\n",
            "w2* : -1.9998888640546553\n"
          ]
        }
      ]
    },
    {
      "cell_type": "code",
      "source": [
        "Q = Data * Labels1\n",
        "z = cp.Variable(10)\n",
        "prob = cp.Problem(cp.Minimize((1 / 2) * cp.sum_squares(Q.T @ z) - np.ones(10).T @ z), [z >= np.zeros(10), Labels2 @ z == 0])\n",
        "prob.solve()\n",
        "print(\"The value of dual objective at optimality is: \" + str(-prob.value))\n"
      ],
      "metadata": {
        "colab": {
          "base_uri": "https://localhost:8080/"
        },
        "id": "yncHAG6lrVAK",
        "outputId": "c6e37779-ae15-42aa-a93b-d42745f52df7"
      },
      "execution_count": 86,
      "outputs": [
        {
          "output_type": "stream",
          "name": "stdout",
          "text": [
            "The value of dual objective at optimality is: 2.6664824411466275\n"
          ]
        }
      ]
    },
    {
      "cell_type": "code",
      "source": [
        "w1 = b_w.value[1]\n",
        "w2 = b_w.value[2]\n",
        "xa = np.array([b, w1, w2])\n",
        "ch = np.around(g @ xa.T, decimals=3)\n",
        "print(\"The primal constraints that are active are: \"), # The support vectors\n",
        "for i in range(0, 10):\n",
        "    if ch[i] == 1:\n",
        "        print(i + 1),\n"
      ],
      "metadata": {
        "colab": {
          "base_uri": "https://localhost:8080/"
        },
        "id": "WRni_QzlraJi",
        "outputId": "daea40dc-b0f4-4ee3-f60e-6b4b648184c4"
      },
      "execution_count": 87,
      "outputs": [
        {
          "output_type": "stream",
          "name": "stdout",
          "text": [
            "The primal constraints that are active are: \n",
            "1\n",
            "2\n",
            "7\n",
            "10\n"
          ]
        }
      ]
    },
    {
      "cell_type": "code",
      "source": [
        "plt.rcParams[\"figure.figsize\"] = (10, 6)\n",
        "plt.scatter(Data[:5, 0], Data[:5, 1], color='dodgerblue', marker='o', label=\"+1\")\n",
        "plt.scatter(Data[5:, 0], Data[5:, 1], color='green', marker='s', label=\"-1\")\n",
        "y = np.linspace(-3, 6, 1000)\n",
        "plt.plot(y, (-b - w1 * y) / w2)\n",
        "plt.plot(y, (-b + 1 - w1 * y) / w2, color='black', linestyle='dashed')\n",
        "plt.plot(y, (-b - 1 - w1 * y) / w2, color='black', linestyle='dashed')\n",
        "ActiveC = np.array([Data[0], Data[1], Data[6], Data[9]])\n",
        "plt.scatter(ActiveC[:, 0], ActiveC[:, 1], color='red', label='Active')\n",
        "plt.axis()\n",
        "plt.xlabel('X1')\n",
        "plt.ylabel('X2')\n",
        "plt.grid()\n",
        "plt.legend()\n",
        "plt.show()\n"
      ],
      "metadata": {
        "colab": {
          "base_uri": "https://localhost:8080/",
          "height": 388
        },
        "id": "Yzp0cxk-a1_2",
        "outputId": "1435cbf5-518a-45e3-e918-544bbe1daaab"
      },
      "execution_count": 88,
      "outputs": [
        {
          "output_type": "display_data",
          "data": {
            "text/plain": [
              "<Figure size 720x432 with 1 Axes>"
            ],
            "image/png": "[encoded data removed]"
          },
          "metadata": {
            "needs_background": "light"
          }
        }
      ]
    }
  ]
}